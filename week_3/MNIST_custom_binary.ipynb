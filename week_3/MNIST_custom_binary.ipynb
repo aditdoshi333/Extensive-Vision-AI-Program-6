{
  "nbformat": 4,
  "nbformat_minor": 0,
  "metadata": {
    "colab": {
      "name": "MNIST_custom_binary.ipynb",
      "provenance": [],
      "collapsed_sections": []
    },
    "kernelspec": {
      "name": "python3",
      "display_name": "Python 3"
    },
    "language_info": {
      "name": "python"
    },
    "accelerator": "GPU",
    "widgets": {
      "application/vnd.jupyter.widget-state+json": {
        "ac9d13c9af284e3eb57baba1846faa95": {
          "model_module": "@jupyter-widgets/controls",
          "model_name": "HBoxModel",
          "state": {
            "_view_name": "HBoxView",
            "_dom_classes": [],
            "_model_name": "HBoxModel",
            "_view_module": "@jupyter-widgets/controls",
            "_model_module_version": "1.5.0",
            "_view_count": null,
            "_view_module_version": "1.5.0",
            "box_style": "",
            "layout": "IPY_MODEL_d55dd50b8ab648d3ad5069e6e1f74996",
            "_model_module": "@jupyter-widgets/controls",
            "children": [
              "IPY_MODEL_0b2c40ed9aef473bbb62c3cb558384df",
              "IPY_MODEL_a918ed63c2ff49168b4b143973d27177"
            ]
          }
        },
        "d55dd50b8ab648d3ad5069e6e1f74996": {
          "model_module": "@jupyter-widgets/base",
          "model_name": "LayoutModel",
          "state": {
            "_view_name": "LayoutView",
            "grid_template_rows": null,
            "right": null,
            "justify_content": null,
            "_view_module": "@jupyter-widgets/base",
            "overflow": null,
            "_model_module_version": "1.2.0",
            "_view_count": null,
            "flex_flow": null,
            "width": null,
            "min_width": null,
            "border": null,
            "align_items": null,
            "bottom": null,
            "_model_module": "@jupyter-widgets/base",
            "top": null,
            "grid_column": null,
            "overflow_y": null,
            "overflow_x": null,
            "grid_auto_flow": null,
            "grid_area": null,
            "grid_template_columns": null,
            "flex": null,
            "_model_name": "LayoutModel",
            "justify_items": null,
            "grid_row": null,
            "max_height": null,
            "align_content": null,
            "visibility": null,
            "align_self": null,
            "height": null,
            "min_height": null,
            "padding": null,
            "grid_auto_rows": null,
            "grid_gap": null,
            "max_width": null,
            "order": null,
            "_view_module_version": "1.2.0",
            "grid_template_areas": null,
            "object_position": null,
            "object_fit": null,
            "grid_auto_columns": null,
            "margin": null,
            "display": null,
            "left": null
          }
        },
        "0b2c40ed9aef473bbb62c3cb558384df": {
          "model_module": "@jupyter-widgets/controls",
          "model_name": "FloatProgressModel",
          "state": {
            "_view_name": "ProgressView",
            "style": "IPY_MODEL_cc6278d9f3844aa3a31712692b93efb3",
            "_dom_classes": [],
            "description": "",
            "_model_name": "FloatProgressModel",
            "bar_style": "success",
            "max": 9912422,
            "_view_module": "@jupyter-widgets/controls",
            "_model_module_version": "1.5.0",
            "value": 9912422,
            "_view_count": null,
            "_view_module_version": "1.5.0",
            "orientation": "horizontal",
            "min": 0,
            "description_tooltip": null,
            "_model_module": "@jupyter-widgets/controls",
            "layout": "IPY_MODEL_9488bfa89454434bba70038414d310c3"
          }
        },
        "a918ed63c2ff49168b4b143973d27177": {
          "model_module": "@jupyter-widgets/controls",
          "model_name": "HTMLModel",
          "state": {
            "_view_name": "HTMLView",
            "style": "IPY_MODEL_29311b9134284d6282085183faa92a37",
            "_dom_classes": [],
            "description": "",
            "_model_name": "HTMLModel",
            "placeholder": "​",
            "_view_module": "@jupyter-widgets/controls",
            "_model_module_version": "1.5.0",
            "value": " 9913344/? [08:08&lt;00:00, 20283.33it/s]",
            "_view_count": null,
            "_view_module_version": "1.5.0",
            "description_tooltip": null,
            "_model_module": "@jupyter-widgets/controls",
            "layout": "IPY_MODEL_07047be3ae7d41cfa8e5e0e3733dee64"
          }
        },
        "cc6278d9f3844aa3a31712692b93efb3": {
          "model_module": "@jupyter-widgets/controls",
          "model_name": "ProgressStyleModel",
          "state": {
            "_view_name": "StyleView",
            "_model_name": "ProgressStyleModel",
            "description_width": "initial",
            "_view_module": "@jupyter-widgets/base",
            "_model_module_version": "1.5.0",
            "_view_count": null,
            "_view_module_version": "1.2.0",
            "bar_color": null,
            "_model_module": "@jupyter-widgets/controls"
          }
        },
        "9488bfa89454434bba70038414d310c3": {
          "model_module": "@jupyter-widgets/base",
          "model_name": "LayoutModel",
          "state": {
            "_view_name": "LayoutView",
            "grid_template_rows": null,
            "right": null,
            "justify_content": null,
            "_view_module": "@jupyter-widgets/base",
            "overflow": null,
            "_model_module_version": "1.2.0",
            "_view_count": null,
            "flex_flow": null,
            "width": null,
            "min_width": null,
            "border": null,
            "align_items": null,
            "bottom": null,
            "_model_module": "@jupyter-widgets/base",
            "top": null,
            "grid_column": null,
            "overflow_y": null,
            "overflow_x": null,
            "grid_auto_flow": null,
            "grid_area": null,
            "grid_template_columns": null,
            "flex": null,
            "_model_name": "LayoutModel",
            "justify_items": null,
            "grid_row": null,
            "max_height": null,
            "align_content": null,
            "visibility": null,
            "align_self": null,
            "height": null,
            "min_height": null,
            "padding": null,
            "grid_auto_rows": null,
            "grid_gap": null,
            "max_width": null,
            "order": null,
            "_view_module_version": "1.2.0",
            "grid_template_areas": null,
            "object_position": null,
            "object_fit": null,
            "grid_auto_columns": null,
            "margin": null,
            "display": null,
            "left": null
          }
        },
        "29311b9134284d6282085183faa92a37": {
          "model_module": "@jupyter-widgets/controls",
          "model_name": "DescriptionStyleModel",
          "state": {
            "_view_name": "StyleView",
            "_model_name": "DescriptionStyleModel",
            "description_width": "",
            "_view_module": "@jupyter-widgets/base",
            "_model_module_version": "1.5.0",
            "_view_count": null,
            "_view_module_version": "1.2.0",
            "_model_module": "@jupyter-widgets/controls"
          }
        },
        "07047be3ae7d41cfa8e5e0e3733dee64": {
          "model_module": "@jupyter-widgets/base",
          "model_name": "LayoutModel",
          "state": {
            "_view_name": "LayoutView",
            "grid_template_rows": null,
            "right": null,
            "justify_content": null,
            "_view_module": "@jupyter-widgets/base",
            "overflow": null,
            "_model_module_version": "1.2.0",
            "_view_count": null,
            "flex_flow": null,
            "width": null,
            "min_width": null,
            "border": null,
            "align_items": null,
            "bottom": null,
            "_model_module": "@jupyter-widgets/base",
            "top": null,
            "grid_column": null,
            "overflow_y": null,
            "overflow_x": null,
            "grid_auto_flow": null,
            "grid_area": null,
            "grid_template_columns": null,
            "flex": null,
            "_model_name": "LayoutModel",
            "justify_items": null,
            "grid_row": null,
            "max_height": null,
            "align_content": null,
            "visibility": null,
            "align_self": null,
            "height": null,
            "min_height": null,
            "padding": null,
            "grid_auto_rows": null,
            "grid_gap": null,
            "max_width": null,
            "order": null,
            "_view_module_version": "1.2.0",
            "grid_template_areas": null,
            "object_position": null,
            "object_fit": null,
            "grid_auto_columns": null,
            "margin": null,
            "display": null,
            "left": null
          }
        },
        "6f6a4021626c4413b94cfc945e0aec09": {
          "model_module": "@jupyter-widgets/controls",
          "model_name": "HBoxModel",
          "state": {
            "_view_name": "HBoxView",
            "_dom_classes": [],
            "_model_name": "HBoxModel",
            "_view_module": "@jupyter-widgets/controls",
            "_model_module_version": "1.5.0",
            "_view_count": null,
            "_view_module_version": "1.5.0",
            "box_style": "",
            "layout": "IPY_MODEL_688a3ca60d8547f5908369e3834d4e8f",
            "_model_module": "@jupyter-widgets/controls",
            "children": [
              "IPY_MODEL_92b094e658874a36a332cb27dcb4ba19",
              "IPY_MODEL_5bb2a60f50774f2785f89f96ec994d0f"
            ]
          }
        },
        "688a3ca60d8547f5908369e3834d4e8f": {
          "model_module": "@jupyter-widgets/base",
          "model_name": "LayoutModel",
          "state": {
            "_view_name": "LayoutView",
            "grid_template_rows": null,
            "right": null,
            "justify_content": null,
            "_view_module": "@jupyter-widgets/base",
            "overflow": null,
            "_model_module_version": "1.2.0",
            "_view_count": null,
            "flex_flow": null,
            "width": null,
            "min_width": null,
            "border": null,
            "align_items": null,
            "bottom": null,
            "_model_module": "@jupyter-widgets/base",
            "top": null,
            "grid_column": null,
            "overflow_y": null,
            "overflow_x": null,
            "grid_auto_flow": null,
            "grid_area": null,
            "grid_template_columns": null,
            "flex": null,
            "_model_name": "LayoutModel",
            "justify_items": null,
            "grid_row": null,
            "max_height": null,
            "align_content": null,
            "visibility": null,
            "align_self": null,
            "height": null,
            "min_height": null,
            "padding": null,
            "grid_auto_rows": null,
            "grid_gap": null,
            "max_width": null,
            "order": null,
            "_view_module_version": "1.2.0",
            "grid_template_areas": null,
            "object_position": null,
            "object_fit": null,
            "grid_auto_columns": null,
            "margin": null,
            "display": null,
            "left": null
          }
        },
        "92b094e658874a36a332cb27dcb4ba19": {
          "model_module": "@jupyter-widgets/controls",
          "model_name": "FloatProgressModel",
          "state": {
            "_view_name": "ProgressView",
            "style": "IPY_MODEL_9f7fa12dd1e64a82b587454fa377fb49",
            "_dom_classes": [],
            "description": "",
            "_model_name": "FloatProgressModel",
            "bar_style": "success",
            "max": 28881,
            "_view_module": "@jupyter-widgets/controls",
            "_model_module_version": "1.5.0",
            "value": 28881,
            "_view_count": null,
            "_view_module_version": "1.5.0",
            "orientation": "horizontal",
            "min": 0,
            "description_tooltip": null,
            "_model_module": "@jupyter-widgets/controls",
            "layout": "IPY_MODEL_2f12e2ea8bcc413894f7165b370a2d43"
          }
        },
        "5bb2a60f50774f2785f89f96ec994d0f": {
          "model_module": "@jupyter-widgets/controls",
          "model_name": "HTMLModel",
          "state": {
            "_view_name": "HTMLView",
            "style": "IPY_MODEL_8d5414e0a99249d48f4f6888e3dc0527",
            "_dom_classes": [],
            "description": "",
            "_model_name": "HTMLModel",
            "placeholder": "​",
            "_view_module": "@jupyter-widgets/controls",
            "_model_module_version": "1.5.0",
            "value": " 29696/? [00:01&lt;00:00, 20285.38it/s]",
            "_view_count": null,
            "_view_module_version": "1.5.0",
            "description_tooltip": null,
            "_model_module": "@jupyter-widgets/controls",
            "layout": "IPY_MODEL_79c6263121db4818912218f16c6b85d6"
          }
        },
        "9f7fa12dd1e64a82b587454fa377fb49": {
          "model_module": "@jupyter-widgets/controls",
          "model_name": "ProgressStyleModel",
          "state": {
            "_view_name": "StyleView",
            "_model_name": "ProgressStyleModel",
            "description_width": "initial",
            "_view_module": "@jupyter-widgets/base",
            "_model_module_version": "1.5.0",
            "_view_count": null,
            "_view_module_version": "1.2.0",
            "bar_color": null,
            "_model_module": "@jupyter-widgets/controls"
          }
        },
        "2f12e2ea8bcc413894f7165b370a2d43": {
          "model_module": "@jupyter-widgets/base",
          "model_name": "LayoutModel",
          "state": {
            "_view_name": "LayoutView",
            "grid_template_rows": null,
            "right": null,
            "justify_content": null,
            "_view_module": "@jupyter-widgets/base",
            "overflow": null,
            "_model_module_version": "1.2.0",
            "_view_count": null,
            "flex_flow": null,
            "width": null,
            "min_width": null,
            "border": null,
            "align_items": null,
            "bottom": null,
            "_model_module": "@jupyter-widgets/base",
            "top": null,
            "grid_column": null,
            "overflow_y": null,
            "overflow_x": null,
            "grid_auto_flow": null,
            "grid_area": null,
            "grid_template_columns": null,
            "flex": null,
            "_model_name": "LayoutModel",
            "justify_items": null,
            "grid_row": null,
            "max_height": null,
            "align_content": null,
            "visibility": null,
            "align_self": null,
            "height": null,
            "min_height": null,
            "padding": null,
            "grid_auto_rows": null,
            "grid_gap": null,
            "max_width": null,
            "order": null,
            "_view_module_version": "1.2.0",
            "grid_template_areas": null,
            "object_position": null,
            "object_fit": null,
            "grid_auto_columns": null,
            "margin": null,
            "display": null,
            "left": null
          }
        },
        "8d5414e0a99249d48f4f6888e3dc0527": {
          "model_module": "@jupyter-widgets/controls",
          "model_name": "DescriptionStyleModel",
          "state": {
            "_view_name": "StyleView",
            "_model_name": "DescriptionStyleModel",
            "description_width": "",
            "_view_module": "@jupyter-widgets/base",
            "_model_module_version": "1.5.0",
            "_view_count": null,
            "_view_module_version": "1.2.0",
            "_model_module": "@jupyter-widgets/controls"
          }
        },
        "79c6263121db4818912218f16c6b85d6": {
          "model_module": "@jupyter-widgets/base",
          "model_name": "LayoutModel",
          "state": {
            "_view_name": "LayoutView",
            "grid_template_rows": null,
            "right": null,
            "justify_content": null,
            "_view_module": "@jupyter-widgets/base",
            "overflow": null,
            "_model_module_version": "1.2.0",
            "_view_count": null,
            "flex_flow": null,
            "width": null,
            "min_width": null,
            "border": null,
            "align_items": null,
            "bottom": null,
            "_model_module": "@jupyter-widgets/base",
            "top": null,
            "grid_column": null,
            "overflow_y": null,
            "overflow_x": null,
            "grid_auto_flow": null,
            "grid_area": null,
            "grid_template_columns": null,
            "flex": null,
            "_model_name": "LayoutModel",
            "justify_items": null,
            "grid_row": null,
            "max_height": null,
            "align_content": null,
            "visibility": null,
            "align_self": null,
            "height": null,
            "min_height": null,
            "padding": null,
            "grid_auto_rows": null,
            "grid_gap": null,
            "max_width": null,
            "order": null,
            "_view_module_version": "1.2.0",
            "grid_template_areas": null,
            "object_position": null,
            "object_fit": null,
            "grid_auto_columns": null,
            "margin": null,
            "display": null,
            "left": null
          }
        },
        "0803a5e3e50640cb882ef2e458be71b1": {
          "model_module": "@jupyter-widgets/controls",
          "model_name": "HBoxModel",
          "state": {
            "_view_name": "HBoxView",
            "_dom_classes": [],
            "_model_name": "HBoxModel",
            "_view_module": "@jupyter-widgets/controls",
            "_model_module_version": "1.5.0",
            "_view_count": null,
            "_view_module_version": "1.5.0",
            "box_style": "",
            "layout": "IPY_MODEL_c885a622836340b4a1d9abb4ac4d32cb",
            "_model_module": "@jupyter-widgets/controls",
            "children": [
              "IPY_MODEL_bca3abe30e164f96b5cfe475c07d4eda",
              "IPY_MODEL_f15f780e2bfc4420a6e32f7af8f40073"
            ]
          }
        },
        "c885a622836340b4a1d9abb4ac4d32cb": {
          "model_module": "@jupyter-widgets/base",
          "model_name": "LayoutModel",
          "state": {
            "_view_name": "LayoutView",
            "grid_template_rows": null,
            "right": null,
            "justify_content": null,
            "_view_module": "@jupyter-widgets/base",
            "overflow": null,
            "_model_module_version": "1.2.0",
            "_view_count": null,
            "flex_flow": null,
            "width": null,
            "min_width": null,
            "border": null,
            "align_items": null,
            "bottom": null,
            "_model_module": "@jupyter-widgets/base",
            "top": null,
            "grid_column": null,
            "overflow_y": null,
            "overflow_x": null,
            "grid_auto_flow": null,
            "grid_area": null,
            "grid_template_columns": null,
            "flex": null,
            "_model_name": "LayoutModel",
            "justify_items": null,
            "grid_row": null,
            "max_height": null,
            "align_content": null,
            "visibility": null,
            "align_self": null,
            "height": null,
            "min_height": null,
            "padding": null,
            "grid_auto_rows": null,
            "grid_gap": null,
            "max_width": null,
            "order": null,
            "_view_module_version": "1.2.0",
            "grid_template_areas": null,
            "object_position": null,
            "object_fit": null,
            "grid_auto_columns": null,
            "margin": null,
            "display": null,
            "left": null
          }
        },
        "bca3abe30e164f96b5cfe475c07d4eda": {
          "model_module": "@jupyter-widgets/controls",
          "model_name": "FloatProgressModel",
          "state": {
            "_view_name": "ProgressView",
            "style": "IPY_MODEL_c0f2e022124741a2908bef77b507de89",
            "_dom_classes": [],
            "description": "",
            "_model_name": "FloatProgressModel",
            "bar_style": "success",
            "max": 1648877,
            "_view_module": "@jupyter-widgets/controls",
            "_model_module_version": "1.5.0",
            "value": 1648877,
            "_view_count": null,
            "_view_module_version": "1.5.0",
            "orientation": "horizontal",
            "min": 0,
            "description_tooltip": null,
            "_model_module": "@jupyter-widgets/controls",
            "layout": "IPY_MODEL_a9a47a13161d476daebf9063134e8c7d"
          }
        },
        "f15f780e2bfc4420a6e32f7af8f40073": {
          "model_module": "@jupyter-widgets/controls",
          "model_name": "HTMLModel",
          "state": {
            "_view_name": "HTMLView",
            "style": "IPY_MODEL_5c15768474af4cc2aa39f68b5d7adf9c",
            "_dom_classes": [],
            "description": "",
            "_model_name": "HTMLModel",
            "placeholder": "​",
            "_view_module": "@jupyter-widgets/controls",
            "_model_module_version": "1.5.0",
            "value": " 1649664/? [03:56&lt;00:00, 6970.92it/s]",
            "_view_count": null,
            "_view_module_version": "1.5.0",
            "description_tooltip": null,
            "_model_module": "@jupyter-widgets/controls",
            "layout": "IPY_MODEL_1a2bb253a597404bbdca832a16ba09c5"
          }
        },
        "c0f2e022124741a2908bef77b507de89": {
          "model_module": "@jupyter-widgets/controls",
          "model_name": "ProgressStyleModel",
          "state": {
            "_view_name": "StyleView",
            "_model_name": "ProgressStyleModel",
            "description_width": "initial",
            "_view_module": "@jupyter-widgets/base",
            "_model_module_version": "1.5.0",
            "_view_count": null,
            "_view_module_version": "1.2.0",
            "bar_color": null,
            "_model_module": "@jupyter-widgets/controls"
          }
        },
        "a9a47a13161d476daebf9063134e8c7d": {
          "model_module": "@jupyter-widgets/base",
          "model_name": "LayoutModel",
          "state": {
            "_view_name": "LayoutView",
            "grid_template_rows": null,
            "right": null,
            "justify_content": null,
            "_view_module": "@jupyter-widgets/base",
            "overflow": null,
            "_model_module_version": "1.2.0",
            "_view_count": null,
            "flex_flow": null,
            "width": null,
            "min_width": null,
            "border": null,
            "align_items": null,
            "bottom": null,
            "_model_module": "@jupyter-widgets/base",
            "top": null,
            "grid_column": null,
            "overflow_y": null,
            "overflow_x": null,
            "grid_auto_flow": null,
            "grid_area": null,
            "grid_template_columns": null,
            "flex": null,
            "_model_name": "LayoutModel",
            "justify_items": null,
            "grid_row": null,
            "max_height": null,
            "align_content": null,
            "visibility": null,
            "align_self": null,
            "height": null,
            "min_height": null,
            "padding": null,
            "grid_auto_rows": null,
            "grid_gap": null,
            "max_width": null,
            "order": null,
            "_view_module_version": "1.2.0",
            "grid_template_areas": null,
            "object_position": null,
            "object_fit": null,
            "grid_auto_columns": null,
            "margin": null,
            "display": null,
            "left": null
          }
        },
        "5c15768474af4cc2aa39f68b5d7adf9c": {
          "model_module": "@jupyter-widgets/controls",
          "model_name": "DescriptionStyleModel",
          "state": {
            "_view_name": "StyleView",
            "_model_name": "DescriptionStyleModel",
            "description_width": "",
            "_view_module": "@jupyter-widgets/base",
            "_model_module_version": "1.5.0",
            "_view_count": null,
            "_view_module_version": "1.2.0",
            "_model_module": "@jupyter-widgets/controls"
          }
        },
        "1a2bb253a597404bbdca832a16ba09c5": {
          "model_module": "@jupyter-widgets/base",
          "model_name": "LayoutModel",
          "state": {
            "_view_name": "LayoutView",
            "grid_template_rows": null,
            "right": null,
            "justify_content": null,
            "_view_module": "@jupyter-widgets/base",
            "overflow": null,
            "_model_module_version": "1.2.0",
            "_view_count": null,
            "flex_flow": null,
            "width": null,
            "min_width": null,
            "border": null,
            "align_items": null,
            "bottom": null,
            "_model_module": "@jupyter-widgets/base",
            "top": null,
            "grid_column": null,
            "overflow_y": null,
            "overflow_x": null,
            "grid_auto_flow": null,
            "grid_area": null,
            "grid_template_columns": null,
            "flex": null,
            "_model_name": "LayoutModel",
            "justify_items": null,
            "grid_row": null,
            "max_height": null,
            "align_content": null,
            "visibility": null,
            "align_self": null,
            "height": null,
            "min_height": null,
            "padding": null,
            "grid_auto_rows": null,
            "grid_gap": null,
            "max_width": null,
            "order": null,
            "_view_module_version": "1.2.0",
            "grid_template_areas": null,
            "object_position": null,
            "object_fit": null,
            "grid_auto_columns": null,
            "margin": null,
            "display": null,
            "left": null
          }
        },
        "e91576ff301547cc8a96c0c5fd56f5cc": {
          "model_module": "@jupyter-widgets/controls",
          "model_name": "HBoxModel",
          "state": {
            "_view_name": "HBoxView",
            "_dom_classes": [],
            "_model_name": "HBoxModel",
            "_view_module": "@jupyter-widgets/controls",
            "_model_module_version": "1.5.0",
            "_view_count": null,
            "_view_module_version": "1.5.0",
            "box_style": "",
            "layout": "IPY_MODEL_611db987b0b74a32b101fcb6a9b2ca45",
            "_model_module": "@jupyter-widgets/controls",
            "children": [
              "IPY_MODEL_d0d697d313ba44aa8210237e095504c1",
              "IPY_MODEL_28c87d0bd172469cb43de010594d7360"
            ]
          }
        },
        "611db987b0b74a32b101fcb6a9b2ca45": {
          "model_module": "@jupyter-widgets/base",
          "model_name": "LayoutModel",
          "state": {
            "_view_name": "LayoutView",
            "grid_template_rows": null,
            "right": null,
            "justify_content": null,
            "_view_module": "@jupyter-widgets/base",
            "overflow": null,
            "_model_module_version": "1.2.0",
            "_view_count": null,
            "flex_flow": null,
            "width": null,
            "min_width": null,
            "border": null,
            "align_items": null,
            "bottom": null,
            "_model_module": "@jupyter-widgets/base",
            "top": null,
            "grid_column": null,
            "overflow_y": null,
            "overflow_x": null,
            "grid_auto_flow": null,
            "grid_area": null,
            "grid_template_columns": null,
            "flex": null,
            "_model_name": "LayoutModel",
            "justify_items": null,
            "grid_row": null,
            "max_height": null,
            "align_content": null,
            "visibility": null,
            "align_self": null,
            "height": null,
            "min_height": null,
            "padding": null,
            "grid_auto_rows": null,
            "grid_gap": null,
            "max_width": null,
            "order": null,
            "_view_module_version": "1.2.0",
            "grid_template_areas": null,
            "object_position": null,
            "object_fit": null,
            "grid_auto_columns": null,
            "margin": null,
            "display": null,
            "left": null
          }
        },
        "d0d697d313ba44aa8210237e095504c1": {
          "model_module": "@jupyter-widgets/controls",
          "model_name": "FloatProgressModel",
          "state": {
            "_view_name": "ProgressView",
            "style": "IPY_MODEL_e6ab1a7e89f6489ea1c92e26c09cbe80",
            "_dom_classes": [],
            "description": "",
            "_model_name": "FloatProgressModel",
            "bar_style": "success",
            "max": 4542,
            "_view_module": "@jupyter-widgets/controls",
            "_model_module_version": "1.5.0",
            "value": 4542,
            "_view_count": null,
            "_view_module_version": "1.5.0",
            "orientation": "horizontal",
            "min": 0,
            "description_tooltip": null,
            "_model_module": "@jupyter-widgets/controls",
            "layout": "IPY_MODEL_945d729c314a43b39dce88bec50a3b63"
          }
        },
        "28c87d0bd172469cb43de010594d7360": {
          "model_module": "@jupyter-widgets/controls",
          "model_name": "HTMLModel",
          "state": {
            "_view_name": "HTMLView",
            "style": "IPY_MODEL_deeab9974fd14440a510dbefdaaedb70",
            "_dom_classes": [],
            "description": "",
            "_model_name": "HTMLModel",
            "placeholder": "​",
            "_view_module": "@jupyter-widgets/controls",
            "_model_module_version": "1.5.0",
            "value": " 5120/? [00:00&lt;00:00, 19108.94it/s]",
            "_view_count": null,
            "_view_module_version": "1.5.0",
            "description_tooltip": null,
            "_model_module": "@jupyter-widgets/controls",
            "layout": "IPY_MODEL_8448f81738e547bcaef0920556bafa79"
          }
        },
        "e6ab1a7e89f6489ea1c92e26c09cbe80": {
          "model_module": "@jupyter-widgets/controls",
          "model_name": "ProgressStyleModel",
          "state": {
            "_view_name": "StyleView",
            "_model_name": "ProgressStyleModel",
            "description_width": "initial",
            "_view_module": "@jupyter-widgets/base",
            "_model_module_version": "1.5.0",
            "_view_count": null,
            "_view_module_version": "1.2.0",
            "bar_color": null,
            "_model_module": "@jupyter-widgets/controls"
          }
        },
        "945d729c314a43b39dce88bec50a3b63": {
          "model_module": "@jupyter-widgets/base",
          "model_name": "LayoutModel",
          "state": {
            "_view_name": "LayoutView",
            "grid_template_rows": null,
            "right": null,
            "justify_content": null,
            "_view_module": "@jupyter-widgets/base",
            "overflow": null,
            "_model_module_version": "1.2.0",
            "_view_count": null,
            "flex_flow": null,
            "width": null,
            "min_width": null,
            "border": null,
            "align_items": null,
            "bottom": null,
            "_model_module": "@jupyter-widgets/base",
            "top": null,
            "grid_column": null,
            "overflow_y": null,
            "overflow_x": null,
            "grid_auto_flow": null,
            "grid_area": null,
            "grid_template_columns": null,
            "flex": null,
            "_model_name": "LayoutModel",
            "justify_items": null,
            "grid_row": null,
            "max_height": null,
            "align_content": null,
            "visibility": null,
            "align_self": null,
            "height": null,
            "min_height": null,
            "padding": null,
            "grid_auto_rows": null,
            "grid_gap": null,
            "max_width": null,
            "order": null,
            "_view_module_version": "1.2.0",
            "grid_template_areas": null,
            "object_position": null,
            "object_fit": null,
            "grid_auto_columns": null,
            "margin": null,
            "display": null,
            "left": null
          }
        },
        "deeab9974fd14440a510dbefdaaedb70": {
          "model_module": "@jupyter-widgets/controls",
          "model_name": "DescriptionStyleModel",
          "state": {
            "_view_name": "StyleView",
            "_model_name": "DescriptionStyleModel",
            "description_width": "",
            "_view_module": "@jupyter-widgets/base",
            "_model_module_version": "1.5.0",
            "_view_count": null,
            "_view_module_version": "1.2.0",
            "_model_module": "@jupyter-widgets/controls"
          }
        },
        "8448f81738e547bcaef0920556bafa79": {
          "model_module": "@jupyter-widgets/base",
          "model_name": "LayoutModel",
          "state": {
            "_view_name": "LayoutView",
            "grid_template_rows": null,
            "right": null,
            "justify_content": null,
            "_view_module": "@jupyter-widgets/base",
            "overflow": null,
            "_model_module_version": "1.2.0",
            "_view_count": null,
            "flex_flow": null,
            "width": null,
            "min_width": null,
            "border": null,
            "align_items": null,
            "bottom": null,
            "_model_module": "@jupyter-widgets/base",
            "top": null,
            "grid_column": null,
            "overflow_y": null,
            "overflow_x": null,
            "grid_auto_flow": null,
            "grid_area": null,
            "grid_template_columns": null,
            "flex": null,
            "_model_name": "LayoutModel",
            "justify_items": null,
            "grid_row": null,
            "max_height": null,
            "align_content": null,
            "visibility": null,
            "align_self": null,
            "height": null,
            "min_height": null,
            "padding": null,
            "grid_auto_rows": null,
            "grid_gap": null,
            "max_width": null,
            "order": null,
            "_view_module_version": "1.2.0",
            "grid_template_areas": null,
            "object_position": null,
            "object_fit": null,
            "grid_auto_columns": null,
            "margin": null,
            "display": null,
            "left": null
          }
        }
      }
    }
  },
  "cells": [
    {
      "cell_type": "markdown",
      "metadata": {
        "id": "HxuatuqdHLUK"
      },
      "source": [
        "# MNIST Adder Network using Pytorch\n",
        "\n",
        "Input\n",
        "\n",
        "\n",
        "*   Image from MNIST dataset\n",
        "*   Random Number\n",
        "\n",
        "Output\n",
        "\n",
        "\n",
        "\n",
        "*   Predict number in binary format from MNIST image\n",
        "*   Add random number and predicted number and output in binary format of the summation.\n",
        "\n",
        "\n",
        "\n",
        "\n",
        "\n",
        "\n"
      ]
    },
    {
      "cell_type": "markdown",
      "metadata": {
        "id": "yp2Yu_c0HWnD"
      },
      "source": [
        "## Necessary imports\n"
      ]
    },
    {
      "cell_type": "code",
      "metadata": {
        "id": "cXrOGmLUG6hV"
      },
      "source": [
        "import torch\n",
        "import torch.nn as nn\n",
        "import torch.nn.functional as F\n",
        "import torch.optim as optim\n",
        "import torchvision\n",
        "import torchvision.transforms as transforms\n",
        "from torch.utils.data import Dataset, TensorDataset\n",
        "from torch.utils.data import DataLoader\n",
        "from sklearn import preprocessing\n",
        "\n",
        "import matplotlib.pyplot as plt\n",
        "import numpy as np\n",
        "\n",
        "import random\n",
        "import matplotlib.pyplot as plt\n",
        "% matplotlib inline\n",
        "\n",
        "import seaborn as sns"
      ],
      "execution_count": 1,
      "outputs": []
    },
    {
      "cell_type": "markdown",
      "metadata": {
        "id": "HFpiuq-FHwUq"
      },
      "source": [
        "## Dataset preparation\n",
        "\n",
        "\n",
        "*   Define transforms\n",
        "*   Download MNIST dataset\n",
        "*   Creation of custom dataset with Random number\n",
        "*   Dataloader for the given batch size\n",
        "\n",
        "\n",
        "\n"
      ]
    },
    {
      "cell_type": "markdown",
      "metadata": {
        "id": "I5U2nrxNcFx0"
      },
      "source": [
        "### Define transforms"
      ]
    },
    {
      "cell_type": "code",
      "metadata": {
        "id": "hECwKsBZH2_Z"
      },
      "source": [
        "\n",
        "train_transforms = transforms.Compose([\n",
        "                                       transforms.ToTensor(),\n",
        "                                       transforms.Normalize((0.1307,), (0.3081,)) # The mean and std have to be sequences (e.g., tuples), therefore you should add a comma after the values. \n",
        "                                       ])\n",
        "\n",
        "test_transforms = transforms.Compose([\n",
        "                                       transforms.ToTensor(),\n",
        "                                       transforms.Normalize((0.1307,), (0.3081,))\n",
        "                                       ])\n",
        "\n",
        "\n"
      ],
      "execution_count": 2,
      "outputs": []
    },
    {
      "cell_type": "markdown",
      "metadata": {
        "id": "U1EEMBjlcKu4"
      },
      "source": [
        "### Download MNIST"
      ]
    },
    {
      "cell_type": "code",
      "metadata": {
        "colab": {
          "base_uri": "https://localhost:8080/",
          "height": 668,
          "referenced_widgets": [
            "ac9d13c9af284e3eb57baba1846faa95",
            "d55dd50b8ab648d3ad5069e6e1f74996",
            "0b2c40ed9aef473bbb62c3cb558384df",
            "a918ed63c2ff49168b4b143973d27177",
            "cc6278d9f3844aa3a31712692b93efb3",
            "9488bfa89454434bba70038414d310c3",
            "29311b9134284d6282085183faa92a37",
            "07047be3ae7d41cfa8e5e0e3733dee64",
            "6f6a4021626c4413b94cfc945e0aec09",
            "688a3ca60d8547f5908369e3834d4e8f",
            "92b094e658874a36a332cb27dcb4ba19",
            "5bb2a60f50774f2785f89f96ec994d0f",
            "9f7fa12dd1e64a82b587454fa377fb49",
            "2f12e2ea8bcc413894f7165b370a2d43",
            "8d5414e0a99249d48f4f6888e3dc0527",
            "79c6263121db4818912218f16c6b85d6",
            "0803a5e3e50640cb882ef2e458be71b1",
            "c885a622836340b4a1d9abb4ac4d32cb",
            "bca3abe30e164f96b5cfe475c07d4eda",
            "f15f780e2bfc4420a6e32f7af8f40073",
            "c0f2e022124741a2908bef77b507de89",
            "a9a47a13161d476daebf9063134e8c7d",
            "5c15768474af4cc2aa39f68b5d7adf9c",
            "1a2bb253a597404bbdca832a16ba09c5",
            "e91576ff301547cc8a96c0c5fd56f5cc",
            "611db987b0b74a32b101fcb6a9b2ca45",
            "d0d697d313ba44aa8210237e095504c1",
            "28c87d0bd172469cb43de010594d7360",
            "e6ab1a7e89f6489ea1c92e26c09cbe80",
            "945d729c314a43b39dce88bec50a3b63",
            "deeab9974fd14440a510dbefdaaedb70",
            "8448f81738e547bcaef0920556bafa79"
          ]
        },
        "id": "g04Q69g3cLHE",
        "outputId": "3c317543-4a7d-4846-d188-f020ba2c42c6"
      },
      "source": [
        "train_set = torchvision.datasets.MNIST('/data', train=True, download=True, transform=train_transforms)\n",
        "train_set, val_set = torch.utils.data.random_split(train_set, [50000, 10000])\n",
        "test_set = torchvision.datasets.MNIST('/data', train=False, download=True, transform=test_transforms)"
      ],
      "execution_count": 3,
      "outputs": [
        {
          "output_type": "stream",
          "text": [
            "Downloading http://yann.lecun.com/exdb/mnist/train-images-idx3-ubyte.gz\n",
            "Downloading http://yann.lecun.com/exdb/mnist/train-images-idx3-ubyte.gz to /data/MNIST/raw/train-images-idx3-ubyte.gz\n"
          ],
          "name": "stdout"
        },
        {
          "output_type": "display_data",
          "data": {
            "application/vnd.jupyter.widget-view+json": {
              "model_id": "ac9d13c9af284e3eb57baba1846faa95",
              "version_minor": 0,
              "version_major": 2
            },
            "text/plain": [
              "HBox(children=(FloatProgress(value=0.0, max=9912422.0), HTML(value='')))"
            ]
          },
          "metadata": {
            "tags": []
          }
        },
        {
          "output_type": "stream",
          "text": [
            "\n",
            "Extracting /data/MNIST/raw/train-images-idx3-ubyte.gz to /data/MNIST/raw\n",
            "\n",
            "Downloading http://yann.lecun.com/exdb/mnist/train-labels-idx1-ubyte.gz\n",
            "Downloading http://yann.lecun.com/exdb/mnist/train-labels-idx1-ubyte.gz to /data/MNIST/raw/train-labels-idx1-ubyte.gz\n"
          ],
          "name": "stdout"
        },
        {
          "output_type": "display_data",
          "data": {
            "application/vnd.jupyter.widget-view+json": {
              "model_id": "6f6a4021626c4413b94cfc945e0aec09",
              "version_minor": 0,
              "version_major": 2
            },
            "text/plain": [
              "HBox(children=(FloatProgress(value=0.0, max=28881.0), HTML(value='')))"
            ]
          },
          "metadata": {
            "tags": []
          }
        },
        {
          "output_type": "stream",
          "text": [
            "\n",
            "Extracting /data/MNIST/raw/train-labels-idx1-ubyte.gz to /data/MNIST/raw\n",
            "\n",
            "Downloading http://yann.lecun.com/exdb/mnist/t10k-images-idx3-ubyte.gz\n",
            "Downloading http://yann.lecun.com/exdb/mnist/t10k-images-idx3-ubyte.gz to /data/MNIST/raw/t10k-images-idx3-ubyte.gz\n",
            "Failed to download (trying next):\n",
            "HTTP Error 503: Service Unavailable\n",
            "\n",
            "Downloading https://ossci-datasets.s3.amazonaws.com/mnist/t10k-images-idx3-ubyte.gz\n",
            "Downloading https://ossci-datasets.s3.amazonaws.com/mnist/t10k-images-idx3-ubyte.gz to /data/MNIST/raw/t10k-images-idx3-ubyte.gz\n"
          ],
          "name": "stdout"
        },
        {
          "output_type": "display_data",
          "data": {
            "application/vnd.jupyter.widget-view+json": {
              "model_id": "0803a5e3e50640cb882ef2e458be71b1",
              "version_minor": 0,
              "version_major": 2
            },
            "text/plain": [
              "HBox(children=(FloatProgress(value=0.0, max=1648877.0), HTML(value='')))"
            ]
          },
          "metadata": {
            "tags": []
          }
        },
        {
          "output_type": "stream",
          "text": [
            "\n",
            "Extracting /data/MNIST/raw/t10k-images-idx3-ubyte.gz to /data/MNIST/raw\n",
            "\n",
            "Downloading http://yann.lecun.com/exdb/mnist/t10k-labels-idx1-ubyte.gz\n",
            "Downloading http://yann.lecun.com/exdb/mnist/t10k-labels-idx1-ubyte.gz to /data/MNIST/raw/t10k-labels-idx1-ubyte.gz\n"
          ],
          "name": "stdout"
        },
        {
          "output_type": "display_data",
          "data": {
            "application/vnd.jupyter.widget-view+json": {
              "model_id": "e91576ff301547cc8a96c0c5fd56f5cc",
              "version_minor": 0,
              "version_major": 2
            },
            "text/plain": [
              "HBox(children=(FloatProgress(value=0.0, max=4542.0), HTML(value='')))"
            ]
          },
          "metadata": {
            "tags": []
          }
        },
        {
          "output_type": "stream",
          "text": [
            "\n",
            "Extracting /data/MNIST/raw/t10k-labels-idx1-ubyte.gz to /data/MNIST/raw\n",
            "\n",
            "Processing...\n",
            "Done!\n"
          ],
          "name": "stdout"
        },
        {
          "output_type": "stream",
          "text": [
            "/usr/local/lib/python3.7/dist-packages/torchvision/datasets/mnist.py:502: UserWarning: The given NumPy array is not writeable, and PyTorch does not support non-writeable tensors. This means you can write to the underlying (supposedly non-writeable) NumPy array using the tensor. You may want to copy the array to protect its data or make it writeable before converting it to a tensor. This type of warning will be suppressed for the rest of this program. (Triggered internally at  /pytorch/torch/csrc/utils/tensor_numpy.cpp:143.)\n",
            "  return torch.from_numpy(parsed.astype(m[2], copy=False)).view(*s)\n"
          ],
          "name": "stderr"
        }
      ]
    },
    {
      "cell_type": "markdown",
      "metadata": {
        "id": "eEjiYliSJvIV"
      },
      "source": [
        "### Custom dataset class (MNIST + Random Number)\n",
        "\n"
      ]
    },
    {
      "cell_type": "code",
      "metadata": {
        "id": "KxPoXWJhUgkV"
      },
      "source": [
        "# For MNIST\n",
        "\n",
        "class_labels_mnist = ['00000', '00001', '00010', '00011', '00100', '00101', '00110', '00111', '01000', '01001']\n",
        "label_encoder_mnist = preprocessing.LabelEncoder()\n",
        "targets_mnist = label_encoder_mnist.fit_transform(class_labels_mnist)\n",
        "\n",
        "\n",
        "# For summation \n",
        "\n",
        "class_labels_summation = ['00000', '00001', '00010', '00011', '00100', '00101', '00110', '00111', '01000', '01001', '01010', '01011', '01100', '01101', '01110', '01111', '10000', '10001', '10010']\n",
        "label_encoder_summation = preprocessing.LabelEncoder()\n",
        "targets_summation = label_encoder_summation.fit_transform(class_labels_summation)"
      ],
      "execution_count": 4,
      "outputs": []
    },
    {
      "cell_type": "code",
      "metadata": {
        "id": "T5xU_qOAHmQs"
      },
      "source": [
        "class CustomMNIST(Dataset):\n",
        "  def __init__(self, MNIST):\n",
        "    self.MNIST = MNIST\n",
        "    self.binary_label_list = { 0:\"00000\", 1:\"00001\", 2:\"00010\", 3:\"00011\", 4:\"00100\", 5:\"00101\", 6:\"00110\", 7:\"00111\", 8:\"01000\", 9:\"01001\", 10:\"01010\", 11: \"01011\", 12:\"01100\", 13:\"01101\", 14:\"01110\", 15:\"01111\", 16:\"10000\", 17:\"10001\", 18:\"10010\"} \n",
        "\n",
        "  def get_binary_number(self,number):\n",
        "    binary_number = self.binary_label_list[number]\n",
        "    return binary_number\n",
        "\n",
        "  def __getitem__(self, index):\n",
        "    mnist_image = self.MNIST[index][0]\n",
        "    label = self.MNIST[index][1]\n",
        "\n",
        "    label_binary = self.get_binary_number(label)\n",
        "    binary_target = targets_mnist[class_labels_mnist.index(label_binary)]\n",
        "\n",
        "\n",
        "    random_number = random.randint(0,9)\n",
        "    \n",
        "    # One hot encoding vector for random number  \n",
        "    one_hot_encoding_random_number = torch.nn.functional.one_hot(torch.arange(0, 10))\n",
        "\n",
        "    #Summation\n",
        "    sum_output = label + random_number\n",
        "\n",
        "    sum_target = targets_summation[class_labels_summation.index(self.get_binary_number(sum_output))]\n",
        "    # print(\"label binary target\", label, binary_target)\n",
        "    return mnist_image, binary_target , one_hot_encoding_random_number[random_number], sum_target\n",
        "\n",
        "  def __len__(self):\n",
        "    return len(self.MNIST)\n",
        "\n",
        "train_dataset = CustomMNIST(train_set)\n",
        "val_dataset = CustomMNIST(val_set)\n",
        "test_dataset = CustomMNIST(test_set)    "
      ],
      "execution_count": 5,
      "outputs": []
    },
    {
      "cell_type": "markdown",
      "metadata": {
        "id": "YX-m7nbpmGyy"
      },
      "source": [
        "### Dataloader\n"
      ]
    },
    {
      "cell_type": "code",
      "metadata": {
        "id": "FbbXNrIiK82R"
      },
      "source": [
        "batch_size = 64\n",
        "train_loader = DataLoader(train_dataset,batch_size=batch_size,shuffle=True)\n",
        "val_loader = DataLoader(val_dataset,batch_size=batch_size)\n",
        "test_loader = DataLoader(test_dataset,batch_size=batch_size)"
      ],
      "execution_count": 6,
      "outputs": []
    },
    {
      "cell_type": "markdown",
      "metadata": {
        "id": "C8tWbWhSLL7R"
      },
      "source": [
        "### Sample batch\n",
        "\n",
        "\n"
      ]
    },
    {
      "cell_type": "code",
      "metadata": {
        "colab": {
          "base_uri": "https://localhost:8080/"
        },
        "id": "2EYRp3arLCIU",
        "outputId": "0a6ba87c-f6f2-4bb2-be71-8eed3d79822d"
      },
      "source": [
        "sample_batch = iter(train_loader)\n",
        "mnist_image, binary_labels, random_number, binary_sum_output = sample_batch.next()\n",
        "\n",
        "print(\" Mnist binary label:\", class_labels_mnist[binary_labels[0]])\n",
        "print(\" Random number:\", random_number[0])\n",
        "print(\" Summation output in binary:\", class_labels_summation[binary_sum_output[0]])"
      ],
      "execution_count": 7,
      "outputs": [
        {
          "output_type": "stream",
          "text": [
            " Mnist binary label: 01001\n",
            " Random number: tensor([1, 0, 0, 0, 0, 0, 0, 0, 0, 0])\n",
            " Summation output in binary: 01001\n"
          ],
          "name": "stdout"
        }
      ]
    },
    {
      "cell_type": "markdown",
      "metadata": {
        "id": "QOcaKvrtLw4Y"
      },
      "source": [
        "## Defining the Model"
      ]
    },
    {
      "cell_type": "code",
      "metadata": {
        "id": "b14fFrznLgbe"
      },
      "source": [
        "class Net(nn.Module):\n",
        "    def __init__(self):\n",
        "        super(Net, self).__init__()\n",
        "        self.conv1 = nn.Conv2d(1, 32, 3, padding=1)       #Input: 28*28*1    Output:28 * 28 * 32    Receptive Field:3 * 3  \n",
        "        self.conv2 = nn.Conv2d(32, 64, 3, padding=1)      #Input: 28*28*32   Output:28 * 28 * 64    Receptive Field:5 * 5\n",
        "        self.pool1 = nn.MaxPool2d(2, 2)                   #Input: 28*28*64   Output:14 * 14 * 64    Receptive Field:10*10 \n",
        "        self.conv3 = nn.Conv2d(64, 128, 3, padding=1)     #Input: 14*14*64   Output:14 * 14 * 128   Receptive Field:12*12\n",
        "        self.conv4 = nn.Conv2d(128, 256, 3, padding=1)    #Input: 14*14*128  Output:14 * 14 * 256   Receptive Field:14*14\n",
        "        self.pool2 = nn.MaxPool2d(2, 2)                   #Input: 14*14*256  Output: 7 * 7 * 256    Receptive Field:28*28\n",
        "        self.conv5 = nn.Conv2d(256, 256, 3, padding=1)    #Input: 7*7*256    Output: 7 * 7 * 256     Receptive Field:30*30\n",
        "        self.conv6 = nn.Conv2d(256, 10, 3, padding=1)     #Input: 7*7*356     Output: 7 * 7 * 10   Receptive Field:32*32\n",
        "        self.gap = nn.AvgPool2d(kernel_size=7) # GAP layer\n",
        "\n",
        "        self.fc1 = nn.Linear(20, 128)                  # 10 from convolution output another 10 from one hot encoding of random number \n",
        "        self.fc2 = nn.Linear(128, 19)\n",
        "\n",
        "    def forward(self, image, randomNumber):\n",
        "        \n",
        "        x = self.pool1(F.relu(self.conv2(F.relu(self.conv1(image)))))\n",
        "        x = self.pool2(F.relu(self.conv4(F.relu(self.conv3(x)))))\n",
        "        x = self.conv6(F.relu(self.conv5(x)))\n",
        "        x = self.gap(x)\n",
        "        x = x.view(-1, 10)\n",
        "        \n",
        "        # Concatenate second input to the output from above convolution\n",
        "        x1 = torch.cat((x, randomNumber), dim=1)\n",
        "        \n",
        "        # Fully connected layers\n",
        "        x1 = F.relu(self.fc1(x1))\n",
        "        x1 = self.fc2(x1)          \n",
        "        return F.log_softmax(x, dim = 1), F.log_softmax(x1, dim = 1)\n",
        "\n"
      ],
      "execution_count": 18,
      "outputs": []
    },
    {
      "cell_type": "markdown",
      "metadata": {
        "id": "9sOWG_9vM-0E"
      },
      "source": [
        "\n",
        "## The Model"
      ]
    },
    {
      "cell_type": "code",
      "metadata": {
        "colab": {
          "base_uri": "https://localhost:8080/"
        },
        "id": "Vrlm8pVtL-M5",
        "outputId": "15e193a9-8dbf-4c58-c223-96ff24e32e93"
      },
      "source": [
        "use_cuda = torch.cuda.is_available()\n",
        "device = torch.device(\"cuda\" if use_cuda else \"cpu\")\n",
        "\n",
        "# move the model to the specified device\n",
        "model = Net().to(device)\n",
        "model.eval()"
      ],
      "execution_count": 19,
      "outputs": [
        {
          "output_type": "execute_result",
          "data": {
            "text/plain": [
              "Net(\n",
              "  (conv1): Conv2d(1, 32, kernel_size=(3, 3), stride=(1, 1), padding=(1, 1))\n",
              "  (conv2): Conv2d(32, 64, kernel_size=(3, 3), stride=(1, 1), padding=(1, 1))\n",
              "  (pool1): MaxPool2d(kernel_size=2, stride=2, padding=0, dilation=1, ceil_mode=False)\n",
              "  (conv3): Conv2d(64, 128, kernel_size=(3, 3), stride=(1, 1), padding=(1, 1))\n",
              "  (conv4): Conv2d(128, 256, kernel_size=(3, 3), stride=(1, 1), padding=(1, 1))\n",
              "  (pool2): MaxPool2d(kernel_size=2, stride=2, padding=0, dilation=1, ceil_mode=False)\n",
              "  (conv5): Conv2d(256, 256, kernel_size=(3, 3), stride=(1, 1), padding=(1, 1))\n",
              "  (conv6): Conv2d(256, 10, kernel_size=(3, 3), stride=(1, 1), padding=(1, 1))\n",
              "  (gap): AvgPool2d(kernel_size=7, stride=7, padding=0)\n",
              "  (fc1): Linear(in_features=20, out_features=128, bias=True)\n",
              "  (fc2): Linear(in_features=128, out_features=19, bias=True)\n",
              ")"
            ]
          },
          "metadata": {
            "tags": []
          },
          "execution_count": 19
        }
      ]
    },
    {
      "cell_type": "markdown",
      "metadata": {
        "id": "K9g1TyZcNMQt"
      },
      "source": [
        "## Training Loop"
      ]
    },
    {
      "cell_type": "code",
      "metadata": {
        "id": "U6-GBrOYNIT_"
      },
      "source": [
        "def train(model, device, train_loader, optimizer, epoch):\n",
        "    model.train()\n",
        "    epoch_loss = 0\n",
        "\n",
        "    for batch_idx, (mnist_image, binary_label, random_number, binary_summation) in enumerate(train_loader):\n",
        "\n",
        "        # Converting to torch.LongTensor because loss functions needs in that mnist_imagetype\n",
        "        binary_label = binary_label.type(torch.LongTensor)\n",
        "        binary_summation = binary_summation.type(torch.LongTensor)\n",
        "\n",
        "        # Moving  to GPU\n",
        "        mnist_image, binary_label, binary_summation = mnist_image.to(device), binary_label.to(device), binary_summation.to(device)\n",
        "\n",
        "        # zero out the gradients\n",
        "        optimizer.zero_grad()\n",
        "\n",
        "        # Output from model (Forward pass)\n",
        "        output, binary_summation_output = model(mnist_image,random_number.to(device))\n",
        "\n",
        "        # compute the loss occured\n",
        "        mnist_loss = F.nll_loss(output, binary_label)\n",
        "        addition_loss = F.nll_loss(binary_summation_output, binary_summation)\n",
        "        loss= (mnist_loss + addition_loss)/2\n",
        "\n",
        "        epoch_loss += loss.item()\n",
        "\n",
        "        # Backprop\n",
        "        loss.backward()\n",
        "\n",
        "        # update the optimizer params\n",
        "        optimizer.step()\n",
        "    print('Train set: Average loss: {:.4f}'.format(loss.item()))\n",
        "\n",
        "    train_loss = epoch_loss / len(train_loader)\n",
        "    return train_loss\n",
        "\n"
      ],
      "execution_count": 20,
      "outputs": []
    },
    {
      "cell_type": "markdown",
      "metadata": {
        "id": "ijI_8dpTNmUv"
      },
      "source": [
        "## Testing Loop"
      ]
    },
    {
      "cell_type": "code",
      "metadata": {
        "id": "4Ay4AVrvNPJl"
      },
      "source": [
        "def test(model, device, test_loader,test_type='Val'):\n",
        "    # set the model in evaluation model\n",
        "    model.eval()\n",
        "\n",
        "    # set the loss to zero\n",
        "    test_loss = 0\n",
        "    \n",
        "    # the number of correct classifications\n",
        "    correct_mnist = 0\n",
        "    correct_addition = 0\n",
        "\n",
        "    with torch.no_grad():\n",
        "        for (mnist_image, binary_label, random_number, binary_sum) in test_loader:\n",
        "\n",
        "            # moving to GPU\n",
        "            binary_label = binary_label.type(torch.LongTensor)\n",
        "            binary_sum = binary_sum.type(torch.LongTensor)\n",
        "            mnist_image, binary_label,binary_sum = mnist_image.to(device), binary_label.to(device), binary_sum.to(device)\n",
        "\n",
        "            # Model inference\n",
        "            output, binary_sum_output = model(mnist_image,random_number.to(device))\n",
        "\n",
        "            # Total loss\n",
        "            mnist_network_loss = F.nll_loss(output, binary_label, reduction='sum').item()\n",
        "            summation_network_loss =F.nll_loss(binary_sum_output, binary_sum, reduction='sum').item()\n",
        "            test_loss += ( mnist_network_loss + summation_network_loss )/2\n",
        "\n",
        "            mnist_pred = output.argmax(dim=1, keepdim=True)\n",
        "            addition_pred = binary_sum_output.argmax(dim=1, keepdim=True)\n",
        "\n",
        "           # Calculating total correct preds\n",
        "            correct_mnist += mnist_pred.eq(binary_label.view_as(mnist_pred)).sum().item()\n",
        "            correct_addition += addition_pred.eq(binary_sum.view_as(addition_pred)).sum().item()\n",
        "\n",
        "\n",
        "    \n",
        "    test_loss /= len(test_loader.dataset)\n",
        "    print(f'{test_type} set: Average loss: {test_loss:.3f}, MNist Accuracy:{100. * correct_mnist/len(test_loader.dataset)}, binary_sum_Accuracy:{100. * correct_addition/len(test_loader.dataset)}')\n",
        "\n",
        "    return test_loss\n"
      ],
      "execution_count": 21,
      "outputs": []
    },
    {
      "cell_type": "markdown",
      "metadata": {
        "id": "J926BHeuPkaE"
      },
      "source": [
        "## Let's write train and test the model"
      ]
    },
    {
      "cell_type": "code",
      "metadata": {
        "colab": {
          "base_uri": "https://localhost:8080/"
        },
        "id": "5CCsxnOKOA8m",
        "outputId": "6eaead19-150b-4021-fdd1-99405919649f"
      },
      "source": [
        "# Moving model to GPU\n",
        "model = Net().to(device)\n",
        "\n",
        "# defining optimizer\n",
        "optimizer = optim.SGD(model.parameters(), lr=0.01, momentum=0.5)\n",
        "\n",
        "# Number of epochs\n",
        "num_epoch = 15\n",
        "train_loss_values = []\n",
        "valid_loss_values = []\n",
        "\n",
        "\n",
        "for epoch in range(1, num_epoch+1):\n",
        "    print('\\nEpoch {} : '.format(epoch))\n",
        "    train_loss = train(model, device, train_loader, optimizer, epoch)\n",
        "    valid_loss = test(model, device, val_loader)\n",
        "    train_loss_values.append(train_loss)\n",
        "    valid_loss_values.append(valid_loss)"
      ],
      "execution_count": 22,
      "outputs": [
        {
          "output_type": "stream",
          "text": [
            "\n",
            "Epoch 1 : \n",
            "Train set: Average loss: 2.5178\n",
            "Val set: Average loss: 2.527, MNist Accuracy:12.52, binary_sum_Accuracy:9.76\n",
            "\n",
            "Epoch 2 : \n",
            "Train set: Average loss: 1.2684\n",
            "Val set: Average loss: 1.614, MNist Accuracy:79.17, binary_sum_Accuracy:11.5\n",
            "\n",
            "Epoch 3 : \n",
            "Train set: Average loss: 1.2941\n",
            "Val set: Average loss: 1.374, MNist Accuracy:89.97, binary_sum_Accuracy:14.08\n",
            "\n",
            "Epoch 4 : \n",
            "Train set: Average loss: 1.0522\n",
            "Val set: Average loss: 1.202, MNist Accuracy:95.7, binary_sum_Accuracy:22.95\n",
            "\n",
            "Epoch 5 : \n",
            "Train set: Average loss: 1.1505\n",
            "Val set: Average loss: 1.131, MNist Accuracy:96.3, binary_sum_Accuracy:29.71\n",
            "\n",
            "Epoch 6 : \n",
            "Train set: Average loss: 1.2588\n",
            "Val set: Average loss: 1.061, MNist Accuracy:96.65, binary_sum_Accuracy:37.54\n",
            "\n",
            "Epoch 7 : \n",
            "Train set: Average loss: 0.8083\n",
            "Val set: Average loss: 0.973, MNist Accuracy:97.26, binary_sum_Accuracy:45.15\n",
            "\n",
            "Epoch 8 : \n",
            "Train set: Average loss: 0.8588\n",
            "Val set: Average loss: 0.929, MNist Accuracy:96.42, binary_sum_Accuracy:48.64\n",
            "\n",
            "Epoch 9 : \n",
            "Train set: Average loss: 0.8028\n",
            "Val set: Average loss: 0.798, MNist Accuracy:98.05, binary_sum_Accuracy:65.68\n",
            "\n",
            "Epoch 10 : \n",
            "Train set: Average loss: 0.6691\n",
            "Val set: Average loss: 0.719, MNist Accuracy:98.2, binary_sum_Accuracy:70.35\n",
            "\n",
            "Epoch 11 : \n",
            "Train set: Average loss: 0.6729\n",
            "Val set: Average loss: 0.647, MNist Accuracy:98.04, binary_sum_Accuracy:78.28\n",
            "\n",
            "Epoch 12 : \n",
            "Train set: Average loss: 0.4553\n",
            "Val set: Average loss: 0.546, MNist Accuracy:98.29, binary_sum_Accuracy:86.39\n",
            "\n",
            "Epoch 13 : \n",
            "Train set: Average loss: 0.4380\n",
            "Val set: Average loss: 0.475, MNist Accuracy:98.36, binary_sum_Accuracy:91.43\n",
            "\n",
            "Epoch 14 : \n",
            "Train set: Average loss: 0.2947\n",
            "Val set: Average loss: 0.406, MNist Accuracy:98.56, binary_sum_Accuracy:93.14\n",
            "\n",
            "Epoch 15 : \n",
            "Train set: Average loss: 0.2842\n",
            "Val set: Average loss: 0.353, MNist Accuracy:98.25, binary_sum_Accuracy:93.96\n"
          ],
          "name": "stdout"
        }
      ]
    },
    {
      "cell_type": "markdown",
      "metadata": {
        "id": "YkSWImNnOXCm"
      },
      "source": [
        "## Ploting the loss "
      ]
    },
    {
      "cell_type": "code",
      "metadata": {
        "colab": {
          "base_uri": "https://localhost:8080/",
          "height": 295
        },
        "id": "lsTdtLh2OH4f",
        "outputId": "1f2e34d0-c7b6-4f85-b162-c95c70ac1ec3"
      },
      "source": [
        "\n",
        "# Plot the learning curve.\n",
        "plt.plot(np.array(train_loss_values), label=\"Training\")\n",
        "plt.plot(np.array(valid_loss_values), label=\"Validation\")\n",
        "\n",
        "\n",
        "# Label the plot.\n",
        "plt.title(\"Training & Validation Loss\")\n",
        "plt.xlabel(\"Epoch\")\n",
        "plt.ylabel(\"Loss\")\n",
        "plt.legend()\n",
        "plt.show()"
      ],
      "execution_count": 23,
      "outputs": [
        {
          "output_type": "display_data",
          "data": {
            "image/png": "[encoded data removed]",
            "text/plain": [
              "<Figure size 432x288 with 1 Axes>"
            ]
          },
          "metadata": {
            "tags": [],
            "needs_background": "light"
          }
        }
      ]
    },
    {
      "cell_type": "markdown",
      "metadata": {
        "id": "mDe6qTF8Of3r"
      },
      "source": [
        "## Sample inference on test data "
      ]
    },
    {
      "cell_type": "code",
      "metadata": {
        "id": "w_eX2N0_Ogha",
        "colab": {
          "base_uri": "https://localhost:8080/",
          "height": 717
        },
        "outputId": "85e37b46-7e52-41cd-907c-c3719bcc7127"
      },
      "source": [
        "for _ in range(0,5):\n",
        "  image,_,_,_ = test_dataset[random.randint(1,10000)]\n",
        "  random_number=random.randint(0,9)\n",
        "\n",
        "  random_number_one_hot = torch.zeros(11).long()\n",
        "  random_number_one_hot[random_number] = 1\n",
        "  random_number_one_hot = random_number_one_hot[:-1]\n",
        "\n",
        "  mnist_net_output, adder_net_output = model(image.unsqueeze(dim=1).to(device),random_number_one_hot.reshape(-1,10).to(device))\n",
        "\n",
        "  mnist_pred = mnist_net_output.argmax(dim=1, keepdim=True)\n",
        "  sum_pred = adder_net_output.argmax(dim=1, keepdim=True)\n",
        "  mnist_binary = class_labels_mnist[mnist_pred.item()]\n",
        "  summation_binary = class_labels_summation[sum_pred.item()]\n",
        "\n",
        "\n",
        "  fig = plt.figure(figsize=(5, 5))\n",
        "  ax = fig.add_subplot(3, 3, 1)\n",
        "  ax.axis('off')\n",
        "  ax.imshow(image.cpu().numpy().squeeze())\n",
        "  ax.set_title(f'Random Number Generated : {random_number} \\n'\n",
        "                f'Mnist Prediction: {mnist_binary} \\n'\n",
        "                f'Sum:  = {summation_binary}')\n"
      ],
      "execution_count": 25,
      "outputs": [
        {
          "output_type": "display_data",
          "data": {
            "image/png": "[encoded data removed]",
            "text/plain": [
              "<Figure size 360x360 with 1 Axes>"
            ]
          },
          "metadata": {
            "tags": [],
            "needs_background": "light"
          }
        },
        {
          "output_type": "display_data",
          "data": {
            "image/png": "[encoded data removed]",
            "text/plain": [
              "<Figure size 360x360 with 1 Axes>"
            ]
          },
          "metadata": {
            "tags": [],
            "needs_background": "light"
          }
        },
        {
          "output_type": "display_data",
          "data": {
            "image/png": "[encoded data removed]",
            "text/plain": [
              "<Figure size 360x360 with 1 Axes>"
            ]
          },
          "metadata": {
            "tags": [],
            "needs_background": "light"
          }
        },
        {
          "output_type": "display_data",
          "data": {
            "image/png": "[encoded data removed]",
            "text/plain": [
              "<Figure size 360x360 with 1 Axes>"
            ]
          },
          "metadata": {
            "tags": [],
            "needs_background": "light"
          }
        },
        {
          "output_type": "display_data",
          "data": {
            "image/png": "[encoded data removed]",
            "text/plain": [
              "<Figure size 360x360 with 1 Axes>"
            ]
          },
          "metadata": {
            "tags": [],
            "needs_background": "light"
          }
        }
      ]
    },
    {
      "cell_type": "code",
      "metadata": {
        "id": "tmscg78U2FsI"
      },
      "source": [
        ""
      ],
      "execution_count": null,
      "outputs": []
    }
  ]
}